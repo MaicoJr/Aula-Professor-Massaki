{
  "nbformat": 4,
  "nbformat_minor": 0,
  "metadata": {
    "colab": {
      "provenance": [],
      "authorship_tag": "ABX9TyMYU4LjwzZaaKb0cBT/NV3L",
      "include_colab_link": true
    },
    "kernelspec": {
      "name": "python3",
      "display_name": "Python 3"
    },
    "language_info": {
      "name": "python"
    }
  },
  "cells": [
    {
      "cell_type": "markdown",
      "metadata": {
        "id": "view-in-github",
        "colab_type": "text"
      },
      "source": [
        "<a href=\"https://colab.research.google.com/github/MaicoJr/Aula-Professor-Massaki/blob/main/Untitled8.ipynb\" target=\"_parent\"><img src=\"https://colab.research.google.com/assets/colab-badge.svg\" alt=\"Open In Colab\"/></a>"
      ]
    },
    {
      "cell_type": "markdown",
      "source": [],
      "metadata": {
        "id": "hk938IOyW1Zj"
      }
    },
    {
      "cell_type": "markdown",
      "source": [
        "#contar de 0 até 9\n"
      ],
      "metadata": {
        "id": "fqPL2CWJW2nr"
      }
    },
    {
      "cell_type": "code",
      "source": [
        "for i in range (0,10):\n",
        "  print(i)"
      ],
      "metadata": {
        "colab": {
          "base_uri": "https://localhost:8080/"
        },
        "id": "uX6ju5jqW9JM",
        "outputId": "840dc487-1e71-40bd-a700-d45723e4f8dd"
      },
      "execution_count": 2,
      "outputs": [
        {
          "output_type": "stream",
          "name": "stdout",
          "text": [
            "0\n",
            "1\n",
            "2\n",
            "3\n",
            "4\n",
            "5\n",
            "6\n",
            "7\n",
            "8\n",
            "9\n"
          ]
        }
      ]
    },
    {
      "cell_type": "code",
      "source": [
        "for i in range (0,10,1):\n",
        "  print(i)"
      ],
      "metadata": {
        "colab": {
          "base_uri": "https://localhost:8080/"
        },
        "id": "Mo7KAhN5XlR6",
        "outputId": "8656f1f1-9071-4f43-89c2-44f9340403aa"
      },
      "execution_count": 7,
      "outputs": [
        {
          "output_type": "stream",
          "name": "stdout",
          "text": [
            "0\n",
            "1\n",
            "2\n",
            "3\n",
            "4\n",
            "5\n",
            "6\n",
            "7\n",
            "8\n",
            "9\n"
          ]
        }
      ]
    },
    {
      "cell_type": "code",
      "source": [
        "for i in range (0,12):\n",
        "  print(i)"
      ],
      "metadata": {
        "colab": {
          "base_uri": "https://localhost:8080/"
        },
        "id": "y4y_8Ab3YiXx",
        "outputId": "f6ea032c-0d50-4bb2-f8d2-2bfa6599abfb"
      },
      "execution_count": 15,
      "outputs": [
        {
          "output_type": "stream",
          "name": "stdout",
          "text": [
            "0\n",
            "1\n",
            "2\n",
            "3\n",
            "4\n",
            "5\n",
            "6\n",
            "7\n",
            "8\n",
            "9\n",
            "10\n",
            "11\n"
          ]
        }
      ]
    },
    {
      "cell_type": "code",
      "source": [
        "valor = int(input(\"digite valor inteiro entre 0 e 100:\"))\n",
        "while(valor<0 or valor>100):\n",
        "  valor = int(input(\"Você digitou errado, por favor, Digite valor entre 0 e 100:\"))\n",
        "print(\"Você digitou:   \",valor)\n"
      ],
      "metadata": {
        "colab": {
          "base_uri": "https://localhost:8080/"
        },
        "id": "hSnGLh7GZNIN",
        "outputId": "405e377f-803a-4d57-b4e1-e261c963b20b"
      },
      "execution_count": 17,
      "outputs": [
        {
          "output_type": "stream",
          "name": "stdout",
          "text": [
            "digite valor inteiro entre 0 e 100:120\n",
            "Você digitou errado, por favor, Digite valor entre 0 e 100:336\n",
            "Você digitou errado, por favor, Digite valor entre 0 e 100:65\n",
            "Você digitou:    65\n"
          ]
        }
      ]
    },
    {
      "cell_type": "code",
      "source": [
        "valor = int(input(\"digite valor :\"))\n",
        "while(valor<2 or valor>18):\n",
        "  valor = int(input(\"Você digitou errado, por favor, Digite valor entre 2 e 18:\"))\n",
        "print(\"Você digitou:   \",valor)"
      ],
      "metadata": {
        "colab": {
          "base_uri": "https://localhost:8080/"
        },
        "id": "vqpMKgpkbL76",
        "outputId": "a7e167dd-723c-4a5f-cb18-cfcc80db1dfd"
      },
      "execution_count": 19,
      "outputs": [
        {
          "output_type": "stream",
          "name": "stdout",
          "text": [
            "digite valor :23\n",
            "Você digitou errado, por favor, Digite valor entre 2 e 18:25\n",
            "Você digitou errado, por favor, Digite valor entre 2 e 18:36\n",
            "Você digitou errado, por favor, Digite valor entre 2 e 18:78\n",
            "Você digitou errado, por favor, Digite valor entre 2 e 18:1\n",
            "Você digitou errado, por favor, Digite valor entre 2 e 18:14\n",
            "Você digitou:    14\n"
          ]
        }
      ]
    },
    {
      "cell_type": "code",
      "source": [
        "a = int(input(\"Digite um valor:  \"))\n",
        "b = int(input(\"Digite outro valor:  \"))\n",
        "c = int(input(\"Digite outro valor:  \"))\n",
        "calculo = (a+b**2+c**2)\n",
        "print(\"resultado\", calculo)\n"
      ],
      "metadata": {
        "colab": {
          "base_uri": "https://localhost:8080/"
        },
        "id": "sgxE3Nl5btAu",
        "outputId": "9ea42ed6-d216-45ab-f460-e18bdbf89267"
      },
      "execution_count": 50,
      "outputs": [
        {
          "output_type": "stream",
          "name": "stdout",
          "text": [
            "Digite um valor:  2\n",
            "Digite outro valor:  3\n",
            "Digite outro valor:  10\n",
            "resultado 111\n"
          ]
        }
      ]
    },
    {
      "cell_type": "code",
      "source": [
        "l = int(input(\"Digite a largura da peça:  \"))\n",
        "a = int(input(\"Digite a altura da peça:  \"))\n",
        "c = int(input(\"Digite o comprimento da peça:  \"))\n",
        "calculo = (l*a*c)\n",
        "\n",
        "if calculo > 0 and calculo <10:\n",
        "  print(\"peça pequena\")\n",
        "elif calculo > 10 and calculo <100:\n",
        "    print(\"peça média\")\n",
        "else:\n",
        "      print(\"peça grande\")\n",
        "print(\"resultado\", calculo)\n",
        "\n",
        "\n"
      ],
      "metadata": {
        "colab": {
          "base_uri": "https://localhost:8080/"
        },
        "id": "JoAIF5xugJab",
        "outputId": "7a8c6a6a-94a2-48eb-8eb5-a3166bf0fce7"
      },
      "execution_count": 51,
      "outputs": [
        {
          "output_type": "stream",
          "name": "stdout",
          "text": [
            "Digite a largura da peça:  2\n",
            "Digite a altura da peça:  6\n",
            "Digite o comprimento da peça:  10\n",
            "peça grande\n",
            "resultado 120\n"
          ]
        }
      ]
    }
  ]
}