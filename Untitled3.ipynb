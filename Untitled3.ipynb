{
  "nbformat": 4,
  "nbformat_minor": 0,
  "metadata": {
    "colab": {
      "provenance": [],
      "authorship_tag": "ABX9TyMKbp8913DbfT59KHbf+TkG",
      "include_colab_link": true
    },
    "kernelspec": {
      "name": "python3",
      "display_name": "Python 3"
    },
    "language_info": {
      "name": "python"
    }
  },
  "cells": [
    {
      "cell_type": "markdown",
      "metadata": {
        "id": "view-in-github",
        "colab_type": "text"
      },
      "source": [
        "<a href=\"https://colab.research.google.com/github/MaicoJr/Aula-Professor-Massaki/blob/main/Untitled3.ipynb\" target=\"_parent\"><img src=\"https://colab.research.google.com/assets/colab-badge.svg\" alt=\"Open In Colab\"/></a>"
      ]
    },
    {
      "cell_type": "code",
      "execution_count": 6,
      "metadata": {
        "colab": {
          "base_uri": "https://localhost:8080/"
        },
        "id": "NTdmk27fLVtw",
        "outputId": "a18fd6f2-eb03-458a-95f3-8ee224ac1f6b"
      },
      "outputs": [
        {
          "output_type": "stream",
          "name": "stdout",
          "text": [
            "digite um valor inteiro55\n",
            "o numero55 é impar\n"
          ]
        }
      ],
      "source": [
        "numero= int(input(\"digite um valor inteiro\"))\n",
        "if numero % 2==0:\n",
        "  print(f\"o numero {numero} é par\")\n",
        "else:\n",
        "  print(f\"o numero{numero} é impar\")\n",
        "\n",
        "\n"
      ]
    }
  ]
}