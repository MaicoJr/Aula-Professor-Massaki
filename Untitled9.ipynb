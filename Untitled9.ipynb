{
  "nbformat": 4,
  "nbformat_minor": 0,
  "metadata": {
    "colab": {
      "provenance": [],
      "authorship_tag": "ABX9TyOZvgBKNvy4kwkrzVhKLS+y",
      "include_colab_link": true
    },
    "kernelspec": {
      "name": "python3",
      "display_name": "Python 3"
    },
    "language_info": {
      "name": "python"
    }
  },
  "cells": [
    {
      "cell_type": "markdown",
      "metadata": {
        "id": "view-in-github",
        "colab_type": "text"
      },
      "source": [
        "<a href=\"https://colab.research.google.com/github/MaicoJr/Aula-Professor-Massaki/blob/main/Untitled9.ipynb\" target=\"_parent\"><img src=\"https://colab.research.google.com/assets/colab-badge.svg\" alt=\"Open In Colab\"/></a>"
      ]
    },
    {
      "cell_type": "code",
      "execution_count": null,
      "metadata": {
        "id": "jPADhOqbzNNQ"
      },
      "outputs": [],
      "source": [
        "#teste 30_09_24\n"
      ]
    },
    {
      "cell_type": "code",
      "source": [
        "nome = \"Maico\"\n",
        "idade = \"37\"\n",
        "altura = 1.82\n",
        "gosto_de = \"estudar\"\n",
        "print(f\"Meu nome é {nome}\")\n",
        "print(f\"Eu tenho {idade}\")\n",
        "print(f\"Eu gosto de {gosto_de}\")\n",
        "\n",
        "print(f\"Eu sou {nome} idade {idade} altura {1.82} gosto de {gosto_de} \")\n",
        "\n"
      ],
      "metadata": {
        "colab": {
          "base_uri": "https://localhost:8080/"
        },
        "id": "3zyFL4VN0wzu",
        "outputId": "f9a344ea-6911-46c1-ac1b-2859d4c65c36"
      },
      "execution_count": 8,
      "outputs": [
        {
          "output_type": "stream",
          "name": "stdout",
          "text": [
            "Meu nome é Maico\n",
            "Eu tenho 37\n",
            "Eu gosto de estudar\n",
            "Eu sou Maico idade 37 altura 1.82 gosto de estudar \n"
          ]
        }
      ]
    },
    {
      "cell_type": "code",
      "source": [],
      "metadata": {
        "id": "L6wSQjDE2kUp"
      },
      "execution_count": null,
      "outputs": []
    }
  ]
}