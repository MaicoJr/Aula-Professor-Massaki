{
  "nbformat": 4,
  "nbformat_minor": 0,
  "metadata": {
    "colab": {
      "provenance": [],
      "authorship_tag": "ABX9TyNd1f2ZdSkNwnfoRI1J8byt",
      "include_colab_link": true
    },
    "kernelspec": {
      "name": "python3",
      "display_name": "Python 3"
    },
    "language_info": {
      "name": "python"
    }
  },
  "cells": [
    {
      "cell_type": "markdown",
      "metadata": {
        "id": "view-in-github",
        "colab_type": "text"
      },
      "source": [
        "<a href=\"https://colab.research.google.com/github/MaicoJr/Aula-Professor-Massaki/blob/main/aula_04_09_24.ipynb\" target=\"_parent\"><img src=\"https://colab.research.google.com/assets/colab-badge.svg\" alt=\"Open In Colab\"/></a>"
      ]
    },
    {
      "cell_type": "markdown",
      "source": [
        "#Ex.04-Aula LP02\n",
        "#Na parte de texto explicativo, o Hashtag é o simbolo em linguagem\n",
        "MARKDOWN usado para formatação TÍTULO\n",
        "\n"
      ],
      "metadata": {
        "id": "OnQ8bLDSKSfl"
      }
    },
    {
      "cell_type": "code",
      "execution_count": 3,
      "metadata": {
        "colab": {
          "base_uri": "https://localhost:8080/"
        },
        "id": "-_njf026KKbN",
        "outputId": "4c734b4f-f432-46af-fc29-4c5293f021c7"
      },
      "outputs": [
        {
          "output_type": "stream",
          "name": "stdout",
          "text": [
            "digite valor em polegadas2\n",
            "50.8\n"
          ]
        }
      ],
      "source": [
        "P = float(input(\"digite valor em polegadas\"))\n",
        "mm = P * 25.4\n",
        "print (mm)\n",
        "\n",
        "\n"
      ]
    },
    {
      "cell_type": "markdown",
      "source": [
        "#Ex.05\n"
      ],
      "metadata": {
        "id": "GoULOT_7Ro5I"
      }
    },
    {
      "cell_type": "code",
      "source": [
        "from math import pi\n",
        "#vou solicitar inialmente o raio\n",
        "print(\"programa para calcular volume da esfera\")\n",
        "raio = float(input(\"digite raio\"))\n",
        "v = (4/3) * pi * (raio**3)\n",
        "print (\"volume da esfera=\", v)\n"
      ],
      "metadata": {
        "colab": {
          "base_uri": "https://localhost:8080/"
        },
        "id": "Vt0My300R4lQ",
        "outputId": "bcb0e031-950b-4fc2-9363-a897cddcb973"
      },
      "execution_count": 11,
      "outputs": [
        {
          "output_type": "stream",
          "name": "stdout",
          "text": [
            "programa para calcular volume da esfera\n",
            "digite raio2\n",
            "volume da esfera= 33.510321638291124\n"
          ]
        }
      ]
    }
  ]
}