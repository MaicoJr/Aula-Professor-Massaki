{
  "nbformat": 4,
  "nbformat_minor": 0,
  "metadata": {
    "colab": {
      "provenance": [],
      "authorship_tag": "ABX9TyPjVyHtPwdLKHVoxVdxuQfQ",
      "include_colab_link": true
    },
    "kernelspec": {
      "name": "python3",
      "display_name": "Python 3"
    },
    "language_info": {
      "name": "python"
    }
  },
  "cells": [
    {
      "cell_type": "markdown",
      "metadata": {
        "id": "view-in-github",
        "colab_type": "text"
      },
      "source": [
        "<a href=\"https://colab.research.google.com/github/MaicoJr/Aula-Professor-Massaki/blob/main/Untitled3.ipynb\" target=\"_parent\"><img src=\"https://colab.research.google.com/assets/colab-badge.svg\" alt=\"Open In Colab\"/></a>"
      ]
    },
    {
      "cell_type": "code",
      "execution_count": 6,
      "metadata": {
        "colab": {
          "base_uri": "https://localhost:8080/"
        },
        "id": "NTdmk27fLVtw",
        "outputId": "a18fd6f2-eb03-458a-95f3-8ee224ac1f6b"
      },
      "outputs": [
        {
          "output_type": "stream",
          "name": "stdout",
          "text": [
            "digite um valor inteiro55\n",
            "o numero55 é impar\n"
          ]
        }
      ],
      "source": [
        "numero= int(input(\"digite um valor inteiro\"))\n",
        "if numero % 2==0:\n",
        "  print(f\"o numero {numero} é par\")\n",
        "else:\n",
        "  print(f\"o numero{numero} é impar\")\n",
        "\n",
        "\n"
      ]
    },
    {
      "cell_type": "code",
      "source": [
        "import math\n",
        "\n",
        "#Solicita ao usuarioo que insira um número\n",
        "numero = float(input(\"digite um numero:\"))\n",
        "\n",
        "#Verifica se o numero é maior ou igual a zero\n",
        "\n",
        "if numero >= 0:\n",
        "    raiz_quadrada = math.sqrt(numero)\n",
        "    print(f\"a raiz quadrada de {numero} é {raiz_quadrada: .2f}\")\n",
        "else:\n",
        "    print(\"Não existe raiz real para este número!\")\n"
      ],
      "metadata": {
        "colab": {
          "base_uri": "https://localhost:8080/"
        },
        "id": "H4PYLFSoZEnB",
        "outputId": "93d8d454-422c-4841-eaea-b496cd27f360"
      },
      "execution_count": 15,
      "outputs": [
        {
          "output_type": "stream",
          "name": "stdout",
          "text": [
            "digite um numero:-25\n",
            "Não existe raiz real para este número!\n"
          ]
        }
      ]
    },
    {
      "cell_type": "code",
      "source": [
        "# Solicita ao usuario que insira o comprimento e a largura da camiseta\n",
        "comprimento = float(input(\"Digite o comprimento da camiseta em centímtros;\"))\n",
        "largura = float(input(\"Digite a largura da camiseta em cenímetros\"))\n",
        "\n",
        "#determine o tamanho da camiseta com base no comprimento e largura\n",
        "if comprimento <= 60 and largura <= 50:\n",
        "  tamanho = \"PP\"\n",
        "elif comprimento <= 65 and largura <= 48:\n",
        "  tamanho = \"P\"\n",
        "elif comprimento <= 70 and largura <= 51:\n",
        "  tamanho = \"M\"\n",
        "elif comprimento <= 75 and largura <= 54:\n",
        "  tamanho = \"G\"\n",
        "elif comprimento <= 80 and largura <= 57:\n",
        "  tamanho = \"GG\"\n",
        "else:\n",
        "  tamanho = \"XGG\"\n",
        "\n",
        "  #Exibe o tamanho da camiseta\n",
        "  print(f\"O tamanho da camiseta é {tamanho}\")"
      ],
      "metadata": {
        "colab": {
          "base_uri": "https://localhost:8080/"
        },
        "id": "Mul937DjcwzY",
        "outputId": "7c2f1077-795c-4d68-ab46-7e154fe7f8a3"
      },
      "execution_count": 17,
      "outputs": [
        {
          "output_type": "stream",
          "name": "stdout",
          "text": [
            "Digite o comprimento da camiseta em centímtros;68\n",
            "Digite a largura da camiseta em cenímetros58\n",
            "O tamanho da camiseta é XGG\n"
          ]
        }
      ]
    }
  ]
}