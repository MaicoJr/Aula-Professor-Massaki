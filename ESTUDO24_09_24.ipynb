{
  "nbformat": 4,
  "nbformat_minor": 0,
  "metadata": {
    "colab": {
      "provenance": [],
      "authorship_tag": "ABX9TyNnNe2HKr/NUS6MRQ0lw6of",
      "include_colab_link": true
    },
    "kernelspec": {
      "name": "python3",
      "display_name": "Python 3"
    },
    "language_info": {
      "name": "python"
    }
  },
  "cells": [
    {
      "cell_type": "markdown",
      "metadata": {
        "id": "view-in-github",
        "colab_type": "text"
      },
      "source": [
        "<a href=\"https://colab.research.google.com/github/MaicoJr/Aula-Professor-Massaki/blob/main/ESTUDO24_09_24.ipynb\" target=\"_parent\"><img src=\"https://colab.research.google.com/assets/colab-badge.svg\" alt=\"Open In Colab\"/></a>"
      ]
    },
    {
      "cell_type": "code",
      "execution_count": 7,
      "metadata": {
        "colab": {
          "base_uri": "https://localhost:8080/"
        },
        "id": "E2xNbzL9ZlTs",
        "outputId": "22d405d6-51d5-4e6a-f0df-2b549a2bc885"
      },
      "outputs": [
        {
          "output_type": "stream",
          "name": "stdout",
          "text": [
            "Digite a:25\n",
            "Digite b:66\n",
            "Digite c:98\n",
            "Digite d:3\n",
            "91\n",
            "294\n"
          ]
        }
      ],
      "source": [
        "#Entrada do programa\n",
        "a = input(\"Digite a:\")\n",
        "b = input(\"Digite b:\")\n",
        "c = input(\"Digite c:\")\n",
        "d = input(\"Digite d:\")\n",
        "#Processamento\n",
        "soma  = int(a) + int(b)\n",
        "multiplicação = int(d) * int(c)\n",
        "#resultado\n",
        "print(soma)\n",
        "print(multiplicação)\n",
        "\n"
      ]
    }
  ]
}