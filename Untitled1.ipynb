{
  "nbformat": 4,
  "nbformat_minor": 0,
  "metadata": {
    "colab": {
      "provenance": [],
      "authorship_tag": "ABX9TyN5Rlk6KnmIJPXkMFQJgL9i",
      "include_colab_link": true
    },
    "kernelspec": {
      "name": "python3",
      "display_name": "Python 3"
    },
    "language_info": {
      "name": "python"
    }
  },
  "cells": [
    {
      "cell_type": "markdown",
      "metadata": {
        "id": "view-in-github",
        "colab_type": "text"
      },
      "source": [
        "<a href=\"https://colab.research.google.com/github/MaicoJr/Aula-Professor-Massaki/blob/main/Untitled1.ipynb\" target=\"_parent\"><img src=\"https://colab.research.google.com/assets/colab-badge.svg\" alt=\"Open In Colab\"/></a>"
      ]
    },
    {
      "cell_type": "code",
      "execution_count": 4,
      "metadata": {
        "colab": {
          "base_uri": "https://localhost:8080/"
        },
        "id": "NABKKVF7PbyH",
        "outputId": "5f9cd611-1960-4bcd-85b0-9e83fb91b3cf"
      },
      "outputs": [
        {
          "output_type": "stream",
          "name": "stdout",
          "text": [
            "digite o nome Maico\n",
            "digite a idade 1986\n",
            "digite a altura 1.82\n",
            "digite o que gosta Estudar\n",
            "Eu sou Maico idade 38 altura 1.82 gosto de mentir \n",
            "Meu nome é Maico\n",
            "Eu tenho 1986\n",
            "Eu gosto de Estudar\n"
          ]
        }
      ],
      "source": [
        "nome = input(\"digite o nome \")\n",
        "idade = input(\"digite a idade \")\n",
        "altura = input(\"digite a altura \")\n",
        "gosto_de = input(\"digite o que gosta \")\n",
        "ano = 2024 - int(idade)\n",
        "if gosto_de == \"Estudar\":\n",
        "  print(f\"Eu sou {nome} idade {ano} altura {altura} gosto de mentir \")\n",
        "  print(f\"Meu nome é {nome}\")\n",
        "  print(f\"Eu tenho {idade}\")\n",
        "  print(f\"Eu gosto de {gosto_de}\")\n",
        "else:\n",
        "  print(f\"Eu sou {nome} idade {idade} altura {altura} gosto de {gosto_de} \")\n",
        "\n"
      ]
    }
  ]
}