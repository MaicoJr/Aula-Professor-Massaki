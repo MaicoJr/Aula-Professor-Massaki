{
  "nbformat": 4,
  "nbformat_minor": 0,
  "metadata": {
    "colab": {
      "provenance": [],
      "authorship_tag": "ABX9TyNvU/V5+4mxqN2v9L233qUb",
      "include_colab_link": true
    },
    "kernelspec": {
      "name": "python3",
      "display_name": "Python 3"
    },
    "language_info": {
      "name": "python"
    }
  },
  "cells": [
    {
      "cell_type": "markdown",
      "metadata": {
        "id": "view-in-github",
        "colab_type": "text"
      },
      "source": [
        "<a href=\"https://colab.research.google.com/github/MaicoJr/Aula-Professor-Massaki/blob/main/Untitled0.ipynb\" target=\"_parent\"><img src=\"https://colab.research.google.com/assets/colab-badge.svg\" alt=\"Open In Colab\"/></a>"
      ]
    },
    {
      "cell_type": "code",
      "execution_count": 4,
      "metadata": {
        "colab": {
          "base_uri": "https://localhost:8080/"
        },
        "id": "MMbH_RtQjpfp",
        "outputId": "30f1c893-551a-48b1-bbb3-297c35432924"
      },
      "outputs": [
        {
          "output_type": "stream",
          "name": "stdout",
          "text": [
            "Digite seu nome: Maico\n",
            "Digite o ano que você nasceu 1986\n",
            "Digite sua altura 1.82\n",
            "Digite o que você gosta de fazer Jogar Futebol\n",
            "Meu nome é Maico\n",
            "Eu tenho 38\n",
            "Eu gosto de Jogar Futebol\n",
            "Eu sou Maico idade 38 altura 1.82 gosto de Jogar Futebol\n"
          ]
        }
      ],
      "source": [
        "nome = input(\"Digite seu nome: \")\n",
        "idade = input(\"Digite o ano que você nasceu \")\n",
        "altura = input(\"Digite sua altura \")\n",
        "gosto_de = input(\"Digite o que você gosta de fazer \")\n",
        "ano = 2024-int(idade)\n",
        "print(f\"Meu nome é {nome}\")\n",
        "print(f\"Eu tenho {ano}\")\n",
        "print(f\"Eu gosto de {gosto_de}\")\n",
        "if gosto_de == \"Estudar\":\n",
        "  print(f\"Eu sou {nome} idade {ano} altura {altura} gosto de mentir\")\n",
        "else:\n",
        "  print(f\"Eu sou {nome} idade {ano} altura {altura} gosto de {gosto_de}\")\n"
      ]
    }
  ]
}