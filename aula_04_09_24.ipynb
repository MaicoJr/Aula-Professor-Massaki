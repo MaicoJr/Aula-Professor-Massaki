{
  "nbformat": 4,
  "nbformat_minor": 0,
  "metadata": {
    "colab": {
      "provenance": [],
      "authorship_tag": "ABX9TyOYTcSRegNxykg2M0JE+4d5",
      "include_colab_link": true
    },
    "kernelspec": {
      "name": "python3",
      "display_name": "Python 3"
    },
    "language_info": {
      "name": "python"
    }
  },
  "cells": [
    {
      "cell_type": "markdown",
      "metadata": {
        "id": "view-in-github",
        "colab_type": "text"
      },
      "source": [
        "<a href=\"https://colab.research.google.com/github/MaicoJr/Aula-Professor-Massaki/blob/main/aula_04_09_24.ipynb\" target=\"_parent\"><img src=\"https://colab.research.google.com/assets/colab-badge.svg\" alt=\"Open In Colab\"/></a>"
      ]
    },
    {
      "cell_type": "markdown",
      "source": [
        "#Ex.05-Aula LP02\n",
        "#Na parte de texto explicativo, o Hashtag é o simbolo em linguagem\n",
        "MARKDOWN usado para formatação TÍTULO\n",
        "\n"
      ],
      "metadata": {
        "id": "OnQ8bLDSKSfl"
      }
    },
    {
      "cell_type": "code",
      "execution_count": 3,
      "metadata": {
        "colab": {
          "base_uri": "https://localhost:8080/"
        },
        "id": "-_njf026KKbN",
        "outputId": "4c734b4f-f432-46af-fc29-4c5293f021c7"
      },
      "outputs": [
        {
          "output_type": "stream",
          "name": "stdout",
          "text": [
            "digite valor em polegadas2\n",
            "50.8\n"
          ]
        }
      ],
      "source": [
        "P = float(input(\"digite valor em polegadas\"))\n",
        "mm = P * 25.4\n",
        "print (mm)\n",
        "\n"
      ]
    }
  ]
}