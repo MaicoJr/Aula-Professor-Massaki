{
  "nbformat": 4,
  "nbformat_minor": 0,
  "metadata": {
    "colab": {
      "provenance": [],
      "authorship_tag": "ABX9TyPzIc2FuxpO8RD9cx550jsA",
      "include_colab_link": true
    },
    "kernelspec": {
      "name": "python3",
      "display_name": "Python 3"
    },
    "language_info": {
      "name": "python"
    }
  },
  "cells": [
    {
      "cell_type": "markdown",
      "metadata": {
        "id": "view-in-github",
        "colab_type": "text"
      },
      "source": [
        "<a href=\"https://colab.research.google.com/github/MaicoJr/Aula-Professor-Massaki/blob/main/Exercicio_1_Aula_18_09_24.ipynb\" target=\"_parent\"><img src=\"https://colab.research.google.com/assets/colab-badge.svg\" alt=\"Open In Colab\"/></a>"
      ]
    },
    {
      "cell_type": "code",
      "execution_count": 10,
      "metadata": {
        "colab": {
          "base_uri": "https://localhost:8080/"
        },
        "id": "u61BY9GuRCz-",
        "outputId": "57befa19-9603-4a9c-9dd7-370071b864ef"
      },
      "outputs": [
        {
          "output_type": "stream",
          "name": "stdout",
          "text": [
            "digite o valor 154\n",
            "esse numero não é multiplo de tres, tente novamente, 154.0\n"
          ]
        }
      ],
      "source": [
        "# Solicita ao usuario que insira um valor inteiro\n",
        "\n",
        "inteiro= float(input(\"digite o valor \"))\n",
        "if inteiro%3==0:\n",
        "  print(f\"esse numero é multiplo de tres, {inteiro}\")\n",
        "else:\n",
        "  print(f\"esse numero não é multiplo de tres, tente novamente, {inteiro}\")\n",
        "# Se o valor é multiplo de 3 ou não\n"
      ]
    },
    {
      "cell_type": "code",
      "source": [
        "#média ponderada do aluno\n",
        "\n",
        "a = float(input(\"digite o valor \"))\n",
        "b = float(input(\"digite o valor \"))\n",
        "media_ponderada= ((a*2)+(b*3))/5\n",
        "if media_ponderada >= 5:\n",
        "  print(f\"aprovado {media_ponderada}\")\n",
        "else:\n",
        "  print(f\"reprovado {media_ponderada}\")"
      ],
      "metadata": {
        "colab": {
          "base_uri": "https://localhost:8080/"
        },
        "id": "EeY90czRSh0T",
        "outputId": "2eca6cc1-67a0-4108-ecdc-5c04e9b21ecc"
      },
      "execution_count": 21,
      "outputs": [
        {
          "output_type": "stream",
          "name": "stdout",
          "text": [
            "digite o valor 9.5\n",
            "digite o valor 1.5\n",
            "reprovado 4.7\n"
          ]
        }
      ]
    },
    {
      "cell_type": "code",
      "source": [
        "a = float(input(\"digite o valor a \"))\n",
        "b = float(input(\"digite o valor b \"))\n",
        "c = float(input(\"digite o valor c \"))\n",
        "if a<=b and a<=c:\n",
        "  print(f\"a é o menor valor {a}\")\n",
        "elif b<=a and b<=c:\n",
        "  print(f\"b e o menor valor {b}\")\n",
        "else:\n",
        "  print(f\"c é o menor valor {c}\")\n",
        "\n",
        "\n"
      ],
      "metadata": {
        "colab": {
          "base_uri": "https://localhost:8080/"
        },
        "id": "JK-UWS_efWfI",
        "outputId": "ce7538c6-f7ff-4a76-b81b-d6d782b552e0"
      },
      "execution_count": 23,
      "outputs": [
        {
          "output_type": "stream",
          "name": "stdout",
          "text": [
            "digite o valor a 6\n",
            "digite o valor b 8\n",
            "digite o valor c 4\n",
            "c é o menor valor 4.0\n"
          ]
        }
      ]
    }
  ]
}