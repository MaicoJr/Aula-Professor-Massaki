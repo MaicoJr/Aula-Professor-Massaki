{
  "nbformat": 4,
  "nbformat_minor": 0,
  "metadata": {
    "colab": {
      "provenance": [],
      "authorship_tag": "ABX9TyOP1+fnlNZ3PyfVVuAuLe1Y",
      "include_colab_link": true
    },
    "kernelspec": {
      "name": "python3",
      "display_name": "Python 3"
    },
    "language_info": {
      "name": "python"
    }
  },
  "cells": [
    {
      "cell_type": "markdown",
      "metadata": {
        "id": "view-in-github",
        "colab_type": "text"
      },
      "source": [
        "<a href=\"https://colab.research.google.com/github/MaicoJr/Aula-Professor-Massaki/blob/main/Untitled5.ipynb\" target=\"_parent\"><img src=\"https://colab.research.google.com/assets/colab-badge.svg\" alt=\"Open In Colab\"/></a>"
      ]
    },
    {
      "cell_type": "code",
      "source": [
        "#teste\n",
        "print(2+3)\n",
        "print(2-3)\n",
        "print(6*4)\n",
        "print(24/8)\n",
        "print(24//8)\n",
        "print(6**8)\n",
        "print(9%6)\n",
        "\n",
        "\n"
      ],
      "metadata": {
        "colab": {
          "base_uri": "https://localhost:8080/"
        },
        "id": "Ep-NjZm1g1CM",
        "outputId": "a8b48b3e-86e6-4c7a-f0ec-deb63ef13a72"
      },
      "execution_count": 6,
      "outputs": [
        {
          "output_type": "stream",
          "name": "stdout",
          "text": [
            "5\n",
            "-1\n",
            "24\n",
            "3.0\n",
            "3\n",
            "1679616\n",
            "3\n"
          ]
        }
      ]
    },
    {
      "cell_type": "code",
      "source": [
        "n3  = 23\n",
        "n4  = n3  * 10 // 2\n",
        "print(\"Resultado n3*n4 =  \" + str(n4))\n",
        "print (n4)\n",
        "n3 = \"Otimo\"\n",
        "print (n3)\n",
        "\n"
      ],
      "metadata": {
        "colab": {
          "base_uri": "https://localhost:8080/"
        },
        "id": "Q_IqlQIviAoz",
        "outputId": "da2f05ac-4bda-4b4c-f4ea-ac59b717f6eb"
      },
      "execution_count": 10,
      "outputs": [
        {
          "output_type": "stream",
          "name": "stdout",
          "text": [
            "Resultado n3*n4 =  115\n",
            "115\n",
            "Otimo\n"
          ]
        }
      ]
    },
    {
      "cell_type": "code",
      "source": [
        "x = 2                                  #tipo numérioco\n",
        "p = 3.1415                             #tipo ponto flutuante\n",
        "Verdadeiro = True                      #tipo boleano\n",
        "texto = 'isto é uma string'            #tipo string\n",
        "texto1 = \"isto tambem é uma string\"    #tipo string\n",
        "c = 3 + 2j                             #tipo numero complexo\n",
        "\n",
        "print(x)\n",
        "print(p)\n",
        "print(Verdadeiro)\n",
        "print(texto)\n",
        "print(texto1)\n"
      ],
      "metadata": {
        "colab": {
          "base_uri": "https://localhost:8080/"
        },
        "id": "NOSOl0V6jCjJ",
        "outputId": "02bb44f2-1f6f-49cc-cd95-f0bb70bcec2f"
      },
      "execution_count": 15,
      "outputs": [
        {
          "output_type": "stream",
          "name": "stdout",
          "text": [
            "2\n",
            "3.1415\n",
            "True\n",
            "isto é uma string\n",
            "isto tambem é uma string\n"
          ]
        }
      ]
    },
    {
      "cell_type": "code",
      "source": [
        "#Notas\n",
        "n1 = int(input(\"valor  \"))\n",
        "n2 = int(input(\"valor  \"))\n",
        "n3 = 25\n",
        "n4 = n1 + n2 + n3\n",
        "print (\"soma:  \" + str(n4))\n"
      ],
      "metadata": {
        "colab": {
          "base_uri": "https://localhost:8080/"
        },
        "id": "mjbOws1YlDHa",
        "outputId": "c4d1f6e0-24d4-4ffd-e94a-954509e84859"
      },
      "execution_count": 21,
      "outputs": [
        {
          "output_type": "stream",
          "name": "stdout",
          "text": [
            "valor  5\n",
            "valor  6\n",
            "soma:  36\n"
          ]
        }
      ]
    }
  ]
}